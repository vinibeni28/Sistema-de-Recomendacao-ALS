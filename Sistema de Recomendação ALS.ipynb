{
 "cells": [
  {
   "cell_type": "markdown",
   "metadata": {},
   "source": [
    "# Sistema de recomendação de filtragem colaborativa - ALS"
   ]
  },
  {
   "cell_type": "markdown",
   "metadata": {},
   "source": [
    "O sistema funcionará da seguinte maneira:\n",
    "<br><br>\n",
    "Os usuários dão rating (fazem uma avaliação) para alguns filmes e o algoritmo gera uma lista de outros filmes que o usuário também daria um bom rating. O ALS é um método de fatoração de matriz que irá 'preencher' os ratings dos filmes que o usuário não avaliou, fará isso baseando-se nos ratings que vários usuários deram aos filmes.<br>\n",
    "\n",
    "Como o sistema irá funcionar?<br>\n",
    "Cada conjunto usuário e filme será transformado em um vetor de números, os quais serão ajustados para reprensentar o interesse do usuário por uma característica de um filme.<br>\n",
    "\n",
    "Esse é o algoritmo que ficou famoso no prêmio **Netflix** !!! Massa né. \n",
    "<hr>\n",
    "Os dados utilizados é o do Group lens e pode ser encontrado no link abaixo.<br>\n",
    "https://grouplens.org/"
   ]
  },
  {
   "cell_type": "markdown",
   "metadata": {},
   "source": [
    "## Análise e Preparação dos Dados:"
   ]
  },
  {
   "cell_type": "code",
   "execution_count": 1,
   "metadata": {},
   "outputs": [],
   "source": [
    "from __future__ import print_function\n",
    "\n",
    "import sys\n",
    "import pandas as pd\n",
    "if sys.version >= '3':\n",
    "    long = int\n",
    "    \n",
    "from pyspark.sql import SparkSession\n",
    "\n",
    "# Verifica a qualidade do modelo.\n",
    "from pyspark.ml.evaluation import RegressionEvaluator\n",
    "# Modelo de recomendação.\n",
    "from pyspark.ml.recommendation import ALS\n",
    "from pyspark.sql import Row"
   ]
  },
  {
   "cell_type": "code",
   "execution_count": 2,
   "metadata": {},
   "outputs": [],
   "source": [
    "spark = SparkSession.builder\\\n",
    "    .appName(\"AlS\")\\\n",
    "    .getOrCreate()"
   ]
  },
  {
   "cell_type": "code",
   "execution_count": 3,
   "metadata": {},
   "outputs": [],
   "source": [
    "# Faz a leitura do arquivo csv com o pandas.\n",
    "df = pd.read_csv('ratings.csv')"
   ]
  },
  {
   "cell_type": "code",
   "execution_count": 4,
   "metadata": {},
   "outputs": [
    {
     "data": {
      "text/html": [
       "<div>\n",
       "<style scoped>\n",
       "    .dataframe tbody tr th:only-of-type {\n",
       "        vertical-align: middle;\n",
       "    }\n",
       "\n",
       "    .dataframe tbody tr th {\n",
       "        vertical-align: top;\n",
       "    }\n",
       "\n",
       "    .dataframe thead th {\n",
       "        text-align: right;\n",
       "    }\n",
       "</style>\n",
       "<table border=\"1\" class=\"dataframe\">\n",
       "  <thead>\n",
       "    <tr style=\"text-align: right;\">\n",
       "      <th></th>\n",
       "      <th>userId</th>\n",
       "      <th>movieId</th>\n",
       "      <th>rating</th>\n",
       "      <th>timestamp</th>\n",
       "    </tr>\n",
       "  </thead>\n",
       "  <tbody>\n",
       "    <tr>\n",
       "      <th>0</th>\n",
       "      <td>1</td>\n",
       "      <td>1</td>\n",
       "      <td>4.0</td>\n",
       "      <td>964982703</td>\n",
       "    </tr>\n",
       "    <tr>\n",
       "      <th>1</th>\n",
       "      <td>1</td>\n",
       "      <td>3</td>\n",
       "      <td>4.0</td>\n",
       "      <td>964981247</td>\n",
       "    </tr>\n",
       "    <tr>\n",
       "      <th>2</th>\n",
       "      <td>1</td>\n",
       "      <td>6</td>\n",
       "      <td>4.0</td>\n",
       "      <td>964982224</td>\n",
       "    </tr>\n",
       "    <tr>\n",
       "      <th>3</th>\n",
       "      <td>1</td>\n",
       "      <td>47</td>\n",
       "      <td>5.0</td>\n",
       "      <td>964983815</td>\n",
       "    </tr>\n",
       "    <tr>\n",
       "      <th>4</th>\n",
       "      <td>1</td>\n",
       "      <td>50</td>\n",
       "      <td>5.0</td>\n",
       "      <td>964982931</td>\n",
       "    </tr>\n",
       "    <tr>\n",
       "      <th>...</th>\n",
       "      <td>...</td>\n",
       "      <td>...</td>\n",
       "      <td>...</td>\n",
       "      <td>...</td>\n",
       "    </tr>\n",
       "    <tr>\n",
       "      <th>100831</th>\n",
       "      <td>610</td>\n",
       "      <td>166534</td>\n",
       "      <td>4.0</td>\n",
       "      <td>1493848402</td>\n",
       "    </tr>\n",
       "    <tr>\n",
       "      <th>100832</th>\n",
       "      <td>610</td>\n",
       "      <td>168248</td>\n",
       "      <td>5.0</td>\n",
       "      <td>1493850091</td>\n",
       "    </tr>\n",
       "    <tr>\n",
       "      <th>100833</th>\n",
       "      <td>610</td>\n",
       "      <td>168250</td>\n",
       "      <td>5.0</td>\n",
       "      <td>1494273047</td>\n",
       "    </tr>\n",
       "    <tr>\n",
       "      <th>100834</th>\n",
       "      <td>610</td>\n",
       "      <td>168252</td>\n",
       "      <td>5.0</td>\n",
       "      <td>1493846352</td>\n",
       "    </tr>\n",
       "    <tr>\n",
       "      <th>100835</th>\n",
       "      <td>610</td>\n",
       "      <td>170875</td>\n",
       "      <td>3.0</td>\n",
       "      <td>1493846415</td>\n",
       "    </tr>\n",
       "  </tbody>\n",
       "</table>\n",
       "<p>100836 rows × 4 columns</p>\n",
       "</div>"
      ],
      "text/plain": [
       "        userId  movieId  rating   timestamp\n",
       "0            1        1     4.0   964982703\n",
       "1            1        3     4.0   964981247\n",
       "2            1        6     4.0   964982224\n",
       "3            1       47     5.0   964983815\n",
       "4            1       50     5.0   964982931\n",
       "...        ...      ...     ...         ...\n",
       "100831     610   166534     4.0  1493848402\n",
       "100832     610   168248     5.0  1493850091\n",
       "100833     610   168250     5.0  1494273047\n",
       "100834     610   168252     5.0  1493846352\n",
       "100835     610   170875     3.0  1493846415\n",
       "\n",
       "[100836 rows x 4 columns]"
      ]
     },
     "execution_count": 4,
     "metadata": {},
     "output_type": "execute_result"
    }
   ],
   "source": [
    "# Imprime na tela o data frame.\n",
    "df"
   ]
  },
  {
   "cell_type": "code",
   "execution_count": 5,
   "metadata": {},
   "outputs": [],
   "source": [
    "# Converte o pandas dataframe no spark dataframe para ganhar mais desempenho.\n",
    "ratings = spark.createDataFrame(df)"
   ]
  },
  {
   "cell_type": "code",
   "execution_count": 6,
   "metadata": {},
   "outputs": [
    {
     "name": "stdout",
     "output_type": "stream",
     "text": [
      "+------+-------+------+---------+\n",
      "|userId|movieId|rating|timestamp|\n",
      "+------+-------+------+---------+\n",
      "|     1|      1|   4.0|964982703|\n",
      "|     1|      3|   4.0|964981247|\n",
      "|     1|      6|   4.0|964982224|\n",
      "|     1|     47|   5.0|964983815|\n",
      "|     1|     50|   5.0|964982931|\n",
      "|     1|     70|   3.0|964982400|\n",
      "|     1|    101|   5.0|964980868|\n",
      "|     1|    110|   4.0|964982176|\n",
      "|     1|    151|   5.0|964984041|\n",
      "|     1|    157|   5.0|964984100|\n",
      "|     1|    163|   5.0|964983650|\n",
      "|     1|    216|   5.0|964981208|\n",
      "|     1|    223|   3.0|964980985|\n",
      "|     1|    231|   5.0|964981179|\n",
      "|     1|    235|   4.0|964980908|\n",
      "|     1|    260|   5.0|964981680|\n",
      "|     1|    296|   3.0|964982967|\n",
      "|     1|    316|   3.0|964982310|\n",
      "|     1|    333|   5.0|964981179|\n",
      "|     1|    349|   4.0|964982563|\n",
      "+------+-------+------+---------+\n",
      "only showing top 20 rows\n",
      "\n"
     ]
    }
   ],
   "source": [
    "ratings.show()"
   ]
  },
  {
   "cell_type": "markdown",
   "metadata": {},
   "source": [
    "## Aplicar o algoritmo de Machine Learning ALS"
   ]
  },
  {
   "cell_type": "code",
   "execution_count": 7,
   "metadata": {},
   "outputs": [],
   "source": [
    "# Quebra o data frame com 80% para treino e 20% para teste.\n",
    "(training, test) = ratings.randomSplit([0.8,0.2])"
   ]
  },
  {
   "cell_type": "markdown",
   "metadata": {},
   "source": [
    "Observações:<br>\n",
    "<ol>\n",
    "    <li>maxIter: Número máximo de iterações.</li>\n",
    "    <li>regParam: Coeficiente de aprendizado.</li>\n",
    "    <li>userCol: Coluna de usuário</li>\n",
    "    <li>itemCol: Coluna de itens.</li>\n",
    "    <li>ratingCol: Coluna de rating.</li>\n",
    "    <li>coldStarStrategy: Se houver problema de recomendação para o usuário vamos dropar.</li>\n",
    "</ol>"
   ]
  },
  {
   "cell_type": "code",
   "execution_count": 8,
   "metadata": {},
   "outputs": [],
   "source": [
    "als = ALS(maxIter=5, regParam=0.01, userCol=\"userId\", itemCol=\"movieId\", ratingCol=\"rating\", coldStartStrategy=\"drop\")\n",
    "model = als.fit(training)"
   ]
  },
  {
   "cell_type": "code",
   "execution_count": 9,
   "metadata": {},
   "outputs": [
    {
     "name": "stdout",
     "output_type": "stream",
     "text": [
      "Root-men-square error = 1.091061231039561\n"
     ]
    }
   ],
   "source": [
    "# Fazer a predição no conjunto de teste.\n",
    "predictions = model.transform(test)\n",
    "# Avaliar o conjunto de teste.\n",
    "evaluator = RegressionEvaluator(metricName=\"rmse\", labelCol=\"rating\", predictionCol=\"prediction\")\n",
    "\n",
    "rmse = evaluator.evaluate(predictions)\n",
    "print(\"Root-men-square error = \"+ str(rmse))"
   ]
  },
  {
   "cell_type": "code",
   "execution_count": 10,
   "metadata": {},
   "outputs": [],
   "source": [
    "# Recomendação para o usuário. A linha abaixo gera dez recomendações para o usuário.\n",
    "# Caso seja necessário um número maior de recomendação de usuário é só alterar o paramêtro 10.\n",
    "userRecs = model.recommendForAllUsers(10)"
   ]
  },
  {
   "cell_type": "code",
   "execution_count": 11,
   "metadata": {},
   "outputs": [
    {
     "name": "stdout",
     "output_type": "stream",
     "text": [
      "+------+---------------------------------------------------------------------------------------------------------------------------------------------------------------------------------------------------------+\n",
      "|userId|recommendations                                                                                                                                                                                          |\n",
      "+------+---------------------------------------------------------------------------------------------------------------------------------------------------------------------------------------------------------+\n",
      "|471   |[[4678, 7.349183], [2459, 7.097487], [2171, 6.9601874], [34338, 6.8947434], [2901, 6.840605], [175303, 6.638791], [1883, 6.5019073], [7096, 6.4062405], [3703, 6.380869], [3969, 6.3573327]]             |\n",
      "|463   |[[112623, 6.933939], [1218, 6.63095], [102903, 6.3386674], [53123, 6.0316443], [81847, 6.0101047], [52885, 6.0020437], [135143, 5.9997215], [142488, 5.9664693], [166461, 5.9282613], [64716, 5.9107738]]|\n",
      "|496   |[[4649, 8.30022], [5048, 8.134155], [89118, 7.6760373], [86911, 7.1578856], [69278, 7.126709], [319, 7.0894575], [556, 6.9873486], [5909, 6.9110727], [1186, 6.7624416], [6666, 6.747773]]               |\n",
      "|148   |[[7381, 7.119458], [6380, 6.725095], [3265, 6.249009], [86911, 6.1365404], [130490, 5.892677], [55052, 5.6856694], [1218, 5.678644], [166461, 5.671506], [1241, 5.6150784], [40962, 5.581052]]           |\n",
      "|540   |[[53123, 5.913109], [945, 5.740309], [86911, 5.530327], [905, 5.496998], [34338, 5.45852], [6666, 5.458206], [3265, 5.3468857], [1237, 5.3303638], [2131, 5.326626], [161582, 5.3189344]]                |\n",
      "|392   |[[4649, 11.015661], [70994, 10.686457], [5048, 10.353085], [86911, 9.998198], [383, 9.145926], [3513, 9.063789], [5909, 9.026126], [3096, 9.020603], [2130, 8.96147], [1952, 8.826281]]                  |\n",
      "|243   |[[5650, 11.366472], [3358, 10.14812], [5666, 9.90931], [1866, 9.901306], [185029, 9.8663025], [174, 9.687538], [2318, 9.682865], [2393, 9.523405], [183897, 9.466865], [44788, 9.391493]]                |\n",
      "|31    |[[232, 9.672662], [2133, 8.954009], [3513, 8.915005], [2431, 8.819554], [3506, 8.711952], [1957, 8.539166], [3524, 8.442588], [4121, 8.420847], [179819, 8.351366], [905, 8.257574]]                     |\n",
      "|516   |[[140110, 6.29531], [905, 6.2498927], [7587, 6.2345257], [3265, 6.078454], [56145, 6.045668], [1212, 6.004934], [2459, 6.0034957], [839, 5.942869], [4437, 5.8970222], [6857, 5.8605337]]                |\n",
      "|580   |[[34338, 6.7334986], [6550, 6.5793586], [2936, 6.407479], [27611, 6.3440914], [5026, 6.0978146], [1237, 6.0516844], [4333, 6.0102577], [2318, 5.982642], [97913, 5.981407], [417, 5.920114]]             |\n",
      "+------+---------------------------------------------------------------------------------------------------------------------------------------------------------------------------------------------------------+\n",
      "only showing top 10 rows\n",
      "\n"
     ]
    }
   ],
   "source": [
    "# A saída terá o identificador do usuário, do filme e o rating que o usuário daria para o filme.\n",
    "userRecs.show(10, False)"
   ]
  },
  {
   "cell_type": "code",
   "execution_count": 12,
   "metadata": {},
   "outputs": [],
   "source": [
    "# Pegar o usuário para um produto específico. Utilizando a transposta.\n",
    "# Caso seja necessário um número maior de recomendação de filme é só alterar o paramêtro 10.\n",
    "movieRecs = model.recommendForAllItems(10)"
   ]
  },
  {
   "cell_type": "code",
   "execution_count": 13,
   "metadata": {},
   "outputs": [
    {
     "name": "stdout",
     "output_type": "stream",
     "text": [
      "+-------+------------------------------------------------------------------------------------------------------------------------------------------------------------------------------+\n",
      "|movieId|recommendations                                                                                                                                                               |\n",
      "+-------+------------------------------------------------------------------------------------------------------------------------------------------------------------------------------+\n",
      "|1580   |[[569, 6.6508803], [536, 6.60852], [340, 6.4993625], [584, 5.976654], [192, 5.974021], [38, 5.953698], [126, 5.8064537], [507, 5.791917], [337, 5.7715535], [35, 5.6274734]]  |\n",
      "|4900   |[[81, 5.9313197], [127, 5.4344397], [77, 5.3131638], [375, 5.18896], [99, 4.6750474], [112, 4.6719], [531, 4.563199], [277, 4.5542254], [276, 4.485346], [353, 4.4572144]]    |\n",
      "|5300   |[[461, 7.4617023], [360, 6.1435757], [392, 6.053887], [531, 5.971671], [433, 5.895194], [396, 5.750051], [270, 5.6823473], [55, 5.615402], [258, 5.471103], [363, 5.445201]]  |\n",
      "|6620   |[[598, 9.903644], [502, 7.5050893], [77, 7.469389], [206, 7.4269247], [38, 6.894346], [261, 6.8076916], [242, 6.643747], [236, 6.577878], [114, 6.470962], [333, 6.435674]]   |\n",
      "|7340   |[[536, 4.692315], [399, 4.585312], [270, 4.523107], [261, 4.4933505], [431, 4.308998], [500, 4.253475], [161, 4.2163267], [557, 3.8878617], [77, 3.8114152], [327, 3.7751083]]|\n",
      "|32460  |[[37, 7.200984], [494, 6.496657], [535, 5.973766], [393, 5.7912016], [295, 5.7470903], [92, 5.6318126], [197, 5.610321], [120, 5.590185], [441, 5.5323935], [394, 5.2936945]] |\n",
      "|54190  |[[598, 8.978847], [536, 8.475302], [557, 8.193056], [162, 7.7991242], [396, 7.551551], [192, 7.519094], [433, 7.5069284], [259, 7.401249], [335, 7.302575], [157, 7.2242427]] |\n",
      "|471    |[[502, 8.413835], [340, 8.237485], [536, 7.99938], [197, 7.4828916], [242, 7.312795], [538, 7.1864557], [598, 6.993258], [92, 6.9101143], [120, 6.498269], [236, 6.4117174]]  |\n",
      "|1591   |[[461, 7.285888], [295, 6.551435], [598, 6.3672442], [37, 6.1671333], [535, 5.9938374], [494, 5.8217187], [120, 5.749301], [255, 5.146921], [92, 5.079625], [197, 4.9551563]] |\n",
      "|140541 |[[259, 9.266348], [77, 7.4953136], [329, 6.6543384], [96, 6.351685], [37, 5.8264546], [174, 5.1428027], [289, 4.9700108], [255, 4.904744], [443, 4.6457996], [231, 4.536333]] |\n",
      "+-------+------------------------------------------------------------------------------------------------------------------------------------------------------------------------------+\n",
      "only showing top 10 rows\n",
      "\n"
     ]
    }
   ],
   "source": [
    "movieRecs.show(10, False)"
   ]
  },
  {
   "cell_type": "code",
   "execution_count": 14,
   "metadata": {},
   "outputs": [],
   "source": [
    "# Selecionar os usuários existentes.\n",
    "users = ratings.select(als.getUserCol()).distinct()"
   ]
  },
  {
   "cell_type": "code",
   "execution_count": 15,
   "metadata": {},
   "outputs": [
    {
     "name": "stdout",
     "output_type": "stream",
     "text": [
      "+------+\n",
      "|userId|\n",
      "+------+\n",
      "|    26|\n",
      "|    29|\n",
      "|   474|\n",
      "|    65|\n",
      "|   191|\n",
      "|   418|\n",
      "|   541|\n",
      "|   558|\n",
      "|   222|\n",
      "|   270|\n",
      "|   293|\n",
      "|   243|\n",
      "|   278|\n",
      "|   367|\n",
      "|   442|\n",
      "|    19|\n",
      "|    54|\n",
      "|   296|\n",
      "|   277|\n",
      "|   287|\n",
      "+------+\n",
      "only showing top 20 rows\n",
      "\n"
     ]
    }
   ],
   "source": [
    "users.show()"
   ]
  },
  {
   "cell_type": "code",
   "execution_count": 16,
   "metadata": {},
   "outputs": [],
   "source": [
    "# Recomendações mas sem o rating para ficar mais limpo, até porque não é necessário mostrar o rating.\n",
    "userRecsOnlyItemId = userRecs.select(userRecs['userId'], userRecs['recommendations']['movieId'])"
   ]
  },
  {
   "cell_type": "code",
   "execution_count": 17,
   "metadata": {},
   "outputs": [
    {
     "name": "stdout",
     "output_type": "stream",
     "text": [
      "+------+--------------------------------------------------------------------------+\n",
      "|userId|recommendations.movieId                                                   |\n",
      "+------+--------------------------------------------------------------------------+\n",
      "|471   |[4678, 2459, 2171, 34338, 2901, 175303, 1883, 7096, 3703, 3969]           |\n",
      "|463   |[112623, 1218, 102903, 53123, 81847, 52885, 135143, 142488, 166461, 64716]|\n",
      "|496   |[4649, 5048, 89118, 86911, 69278, 319, 556, 5909, 1186, 6666]             |\n",
      "|148   |[7381, 6380, 3265, 86911, 130490, 55052, 1218, 166461, 1241, 40962]       |\n",
      "|540   |[53123, 945, 86911, 905, 34338, 6666, 3265, 1237, 2131, 161582]           |\n",
      "|392   |[4649, 70994, 5048, 86911, 383, 3513, 5909, 3096, 2130, 1952]             |\n",
      "|243   |[5650, 3358, 5666, 1866, 185029, 174, 2318, 2393, 183897, 44788]          |\n",
      "|31    |[232, 2133, 3513, 2431, 3506, 1957, 3524, 4121, 179819, 905]              |\n",
      "|516   |[140110, 905, 7587, 3265, 56145, 1212, 2459, 839, 4437, 6857]             |\n",
      "|580   |[34338, 6550, 2936, 27611, 5026, 1237, 4333, 2318, 97913, 417]            |\n",
      "+------+--------------------------------------------------------------------------+\n",
      "only showing top 10 rows\n",
      "\n"
     ]
    }
   ],
   "source": [
    "userRecsOnlyItemId.show(10,False)"
   ]
  },
  {
   "cell_type": "markdown",
   "metadata": {},
   "source": [
    "## Conexão com o Banco de Dados"
   ]
  },
  {
   "cell_type": "markdown",
   "metadata": {},
   "source": [
    "Será utilizado o MongoDB é um software de banco de dados orientado a documentos livre, de código aberto e multiplataforma, escrito na linguagem C++.[5] Classificado como um programa de banco de dados NoSQL, o MongoDB usa documentos semelhantes a JSON com esquemas. É desenvolvido pela MongoDB Inc. e publicado sob uma combinação da GNU Affero General Public License e Licença Apache.\n",
    "\n",
    "Suas características permitem com que as aplicações modelem informações de modo muito mais natural, pois os dados podem ser aninhados em hierarquias complexas e continuar a ser indexáveis e fáceis de buscar."
   ]
  },
  {
   "cell_type": "markdown",
   "metadata": {},
   "source": [
    "Caso não possua o Mongodb instalado:<br>\n",
    "https://docs.mongodb.com/manual/administration/install-community/"
   ]
  },
  {
   "cell_type": "markdown",
   "metadata": {},
   "source": [
    "#### Colocando os dados no Mongodb"
   ]
  },
  {
   "cell_type": "markdown",
   "metadata": {},
   "source": [
    "É necessário ter a biblioteca pymongo para colocar os dados no Mongodb. Logo caso não tenha abra o terminal e execute **pip install pymongo**."
   ]
  },
  {
   "cell_type": "code",
   "execution_count": 18,
   "metadata": {},
   "outputs": [],
   "source": [
    "# Criando uma variavel para armazenar as recomendações.\n",
    "recomendationToSave = model.recommendForAllUsers(10)\n",
    "# Adaptando a variável da recomendations e movieId para uma única variável.\n",
    "recomendationToSave = recomendationToSave.select(recomendationToSave['userId'], recomendationToSave['recommendations']['movieId'].alias('movieId'))"
   ]
  },
  {
   "cell_type": "code",
   "execution_count": 19,
   "metadata": {},
   "outputs": [],
   "source": [
    "import pymongo\n",
    "from pymongo import MongoClient\n",
    "\n",
    "client = MongoClient('localhost',27017)\n",
    "db = client.pchp"
   ]
  },
  {
   "cell_type": "code",
   "execution_count": null,
   "metadata": {},
   "outputs": [],
   "source": [
    "# Coleta a recomendação para a variável colecao.\n",
    "colecao = recomendationToSave.collect()\n",
    "\n",
    "# Insere uma a uma no Mongodb\n",
    "for row in colecao:\n",
    "    db.suggestions.insert_one(row.asDict())"
   ]
  },
  {
   "cell_type": "code",
   "execution_count": null,
   "metadata": {},
   "outputs": [],
   "source": [
    "recomendationToSave.show()"
   ]
  },
  {
   "cell_type": "markdown",
   "metadata": {},
   "source": [
    "Requisição no banco para mostrar que deu tudo certo.\n",
    "<img src='suggestions_mongodb.png' /></a>"
   ]
  },
  {
   "cell_type": "markdown",
   "metadata": {},
   "source": [
    "# Próximo passo fazer o Front para conectar com o Banco de Dados !!!"
   ]
  }
 ],
 "metadata": {
  "kernelspec": {
   "display_name": "Python 3",
   "language": "python",
   "name": "python3"
  },
  "language_info": {
   "codemirror_mode": {
    "name": "ipython",
    "version": 3
   },
   "file_extension": ".py",
   "mimetype": "text/x-python",
   "name": "python",
   "nbconvert_exporter": "python",
   "pygments_lexer": "ipython3",
   "version": "3.8.3"
  }
 },
 "nbformat": 4,
 "nbformat_minor": 4
}
